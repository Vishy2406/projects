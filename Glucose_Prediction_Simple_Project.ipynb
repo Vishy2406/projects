{
  "nbformat": 4,
  "nbformat_minor": 0,
  "metadata": {
    "colab": {
      "provenance": []
    },
    "kernelspec": {
      "name": "python3",
      "display_name": "Python 3"
    },
    "language_info": {
      "name": "python"
    }
  },
  "cells": [
    {
      "cell_type": "markdown",
      "source": [
        "#Glucose Prediction from Wearable Data\n",
        "This project simulates wearable health data (steps, heart rate, sleep, and carb intake) to predict glucose spikes using a logistic regression model. It showcases how simple machine learning can help assess metabolic risk in a personalized medicine context."
      ],
      "metadata": {
        "id": "OUcUslZbl6pW"
      }
    },
    {
      "cell_type": "code",
      "execution_count": null,
      "metadata": {
        "id": "sYRmLU6slbHa"
      },
      "outputs": [],
      "source": [
        "import pandas as pd\n",
        "import numpy as np\n",
        "\n",
        "np.random.seed(42)\n",
        "\n",
        "# Simulate 200 \"days\" of data\n",
        "n = 200\n",
        "\n",
        "# Simulate features\n",
        "data = pd.DataFrame({\n",
        "    'steps': np.random.randint(1000, 15000, n),\n",
        "    'heart_rate': np.random.randint(60, 110, n),\n",
        "    'sleep_hours': np.random.uniform(4, 9, n).round(1),\n",
        "    'carbs_grams': np.random.randint(50, 250, n),\n",
        "})\n",
        "\n",
        "# Simulate outcome: glucose spike (1 or 0)\n",
        "# Simple rule: higher carbs + lower sleep + higher HR = higher chance of spike\n",
        "data['glucose_spike'] = (\n",
        "    (data['carbs_grams'] > 150).astype(int) +\n",
        "    (data['sleep_hours'] < 6).astype(int) +\n",
        "    (data['heart_rate'] > 90).astype(int)\n",
        ")\n",
        "\n",
        "# Cap to binary (1 if 2 or more risk factors)\n",
        "data['glucose_spike'] = (data['glucose_spike'] >= 2).astype(int)\n",
        "\n",
        "# Show first rows\n",
        "data.head()\n"
      ]
    },
    {
      "cell_type": "markdown",
      "source": [
        "##Exploratory Visualization\n",
        "We visualize how carb intake and sleep duration influence glucose spike risk."
      ],
      "metadata": {
        "id": "1AUvZ4lomjBO"
      }
    },
    {
      "cell_type": "code",
      "source": [
        "import matplotlib.pyplot as plt\n",
        "\n",
        "plt.figure(figsize=(8,6))\n",
        "plt.scatter(data['sleep_hours'], data['carbs_grams'], c=data['glucose_spike'], cmap='coolwarm')\n",
        "plt.xlabel('Sleep Hours')\n",
        "plt.ylabel('Carbs (grams)')\n",
        "plt.title('Glucose Spike Risk by Sleep and Carbs')\n",
        "plt.colorbar(label='Glucose Spike (0 = No, 1 = Yes)')\n",
        "plt.grid(True)\n",
        "plt.show()\n"
      ],
      "metadata": {
        "id": "ifAV8s2vm8UP"
      },
      "execution_count": null,
      "outputs": []
    },
    {
      "cell_type": "markdown",
      "source": [
        "##Model Training: Logistic Regression\n",
        "We split the data into training and test sets and train a logistic regression model to predict glucose spikes."
      ],
      "metadata": {
        "id": "UHgMa1GhnDJ2"
      }
    },
    {
      "cell_type": "code",
      "source": [
        "from sklearn.model_selection import train_test_split\n",
        "from sklearn.linear_model import LogisticRegression\n",
        "from sklearn.metrics import classification_report, confusion_matrix\n",
        "\n",
        "# Features and labels\n",
        "X = data[['steps', 'heart_rate', 'sleep_hours', 'carbs_grams']]\n",
        "y = data['glucose_spike']\n",
        "\n",
        "# Train/test split\n",
        "X_train, X_test, y_train, y_test = train_test_split(X, y, test_size=0.2, random_state=1)\n",
        "\n",
        "# Train the model\n",
        "model = LogisticRegression()\n",
        "model.fit(X_train, y_train)\n",
        "\n",
        "# Predictions\n",
        "y_pred = model.predict(X_test)\n",
        "\n",
        "# Evaluation\n",
        "print(confusion_matrix(y_test, y_pred))\n",
        "print(classification_report(y_test, y_pred))\n"
      ],
      "metadata": {
        "id": "wOA4AAXtmyus"
      },
      "execution_count": null,
      "outputs": []
    },
    {
      "cell_type": "code",
      "source": [
        "from sklearn.model_selection import train_test_split\n",
        "from sklearn.linear_model import LogisticRegression\n",
        "from sklearn.metrics import classification_report, confusion_matrix\n",
        "\n",
        "# Split features and labels\n",
        "X = data[['steps', 'heart_rate', 'sleep_hours', 'carbs_grams']]\n",
        "y = data['glucose_spike']\n",
        "\n",
        "# Train/test split\n",
        "X_train, X_test, y_train, y_test = train_test_split(X, y, test_size=0.2, random_state=1)\n",
        "\n",
        "# Train model\n",
        "model = LogisticRegression()\n",
        "model.fit(X_train, y_train)\n",
        "\n",
        "# Predict\n",
        "y_pred = model.predict(X_test)\n",
        "\n",
        "# Evaluate\n",
        "print(confusion_matrix(y_test, y_pred))\n",
        "print(classification_report(y_test, y_pred))\n"
      ],
      "metadata": {
        "id": "IIh0ZCgSltr9"
      },
      "execution_count": null,
      "outputs": []
    },
    {
      "cell_type": "markdown",
      "source": [
        "##Conclusions and Future Work\n",
        "This project demonstrates how simulated wearable health data can be used to predict glucose spikes using a simple machine learning model. Future improvements could include using real patient data, adding more features(insulin, stress, hydration), and deploying as a web app."
      ],
      "metadata": {
        "id": "a9kT3dLrnVXb"
      }
    }
  ]
}