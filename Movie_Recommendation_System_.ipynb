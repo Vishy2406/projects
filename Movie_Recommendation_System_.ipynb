{
  "nbformat": 4,
  "nbformat_minor": 0,
  "metadata": {
    "colab": {
      "provenance": []
    },
    "kernelspec": {
      "name": "python3",
      "display_name": "Python 3"
    },
    "language_info": {
      "name": "python"
    }
  },
  "cells": [
    {
      "cell_type": "markdown",
      "source": [
        "# BMI Calculator Project\n",
        "\n",
        "This is a simple Python Project that calculates your Body Mass Index(BMI) based on your height and weight and classifies your health status."
      ],
      "metadata": {
        "id": "eE1BjGaUC9Pi"
      }
    },
    {
      "cell_type": "code",
      "source": [
        "# Created function to calculate BMI and classify it\n",
        "\n",
        "def calculate_bmi(weight_kg, height_cm):\n",
        "    height_m = height_cm / 100\n",
        "    bmi = weight_kg / (height_m ** 2)\n",
        "    return round(bmi, 2)\n",
        "\n",
        "def get_bmi_category(bmi):\n",
        "    if bmi < 18.5:\n",
        "        return \"Underweight\"\n",
        "    elif 18.5 <= bmi < 25:\n",
        "        return \"Normal weight\"\n",
        "    elif 25 <= bmi < 30:\n",
        "        return \"Overweight\"\n",
        "    else:\n",
        "        return \"Obese\"\n"
      ],
      "metadata": {
        "id": "wZmQV-OSDQT3"
      },
      "execution_count": 1,
      "outputs": []
    },
    {
      "cell_type": "markdown",
      "source": [
        "##User Input\n",
        "Enter your height(cm) and weight(kg) below."
      ],
      "metadata": {
        "id": "IBZwPcwVDYce"
      }
    },
    {
      "cell_type": "code",
      "source": [
        "#input from the user\n",
        "weight = float(input(\"Enter your weight in kg: \"))\n",
        "height = float(input(\"Enter your height in cm: \"))"
      ],
      "metadata": {
        "colab": {
          "base_uri": "https://localhost:8080/"
        },
        "id": "6izyhgoFDk9z",
        "outputId": "06c5d831-df86-40df-ff15-9eb3fff56d27"
      },
      "execution_count": 2,
      "outputs": [
        {
          "name": "stdout",
          "output_type": "stream",
          "text": [
            "Enter your weight in kg: 72\n",
            "Enter your height in cm: 170\n"
          ]
        }
      ]
    },
    {
      "cell_type": "markdown",
      "source": [
        "##Result\n",
        "We will now calculate your BMI and print your category."
      ],
      "metadata": {
        "id": "Qcm5CSQFD5fx"
      }
    },
    {
      "cell_type": "code",
      "source": [
        "#Compute BMI and category\n",
        "\n",
        "bmi = calculate_bmi(weight, height)\n",
        "category = get_bmi_category(bmi)\n",
        "\n",
        "#output\n",
        "print(f\"\\nYour BMI is: {bmi}\")\n",
        "print(f\"Health classification: {category}\")"
      ],
      "metadata": {
        "colab": {
          "base_uri": "https://localhost:8080/"
        },
        "id": "mj8gGuiEEA1c",
        "outputId": "29712858-9466-41fc-a8b7-01a31de08695"
      },
      "execution_count": 3,
      "outputs": [
        {
          "output_type": "stream",
          "name": "stdout",
          "text": [
            "\n",
            "Your BMI is: 24.91\n",
            "Health classification: Normal weight\n"
          ]
        }
      ]
    },
    {
      "cell_type": "markdown",
      "source": [
        "##Summary\n",
        "For this project we:\n",
        " - Collected user height and weight\n",
        " - Calculated BMI using the BMI formula\n",
        " - Classified the user into health categories\n",
        " - Used basic Python logic and functions\n",
        "\n",
        ""
      ],
      "metadata": {
        "id": "VEIqXKnAEbQ4"
      }
    }
  ]
}